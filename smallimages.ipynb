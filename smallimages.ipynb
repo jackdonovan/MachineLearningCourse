{
 "cells": [
  {
   "cell_type": "code",
   "execution_count": 5,
   "metadata": {},
   "outputs": [
    {
     "name": "stdout",
     "output_type": "stream",
     "text": [
      "[b'batch_label', b'labels', b'data', b'filenames']\n"
     ]
    },
    {
     "data": {
      "image/png": "[encoded data removed]",
      "text/plain": [
       "<Figure size 432x288 with 1 Axes>"
      ]
     },
     "metadata": {
      "needs_background": "light"
     },
     "output_type": "display_data"
    },
    {
     "data": {
      "image/png": "[encoded data removed]",
      "text/plain": [
       "<Figure size 432x288 with 1 Axes>"
      ]
     },
     "metadata": {
      "needs_background": "light"
     },
     "output_type": "display_data"
    }
   ],
   "source": [
    "# -*- coding: utf-8 -*-\n",
    "\"\"\"\n",
    "Created on Tue Feb 19 10:25:35 2019\n",
    "\n",
    "First, install tensorflow and keras:\n",
    "Run Anaconda Prompt as Administrator\n",
    "> conda search python\n",
    "> conda install python=3.6.8\n",
    "\n",
    "try\n",
    "> conda install tensorflow\n",
    "> conda install keras\n",
    "\n",
    "Use pip if not working.\n",
    "\n",
    "@author: afobrien\n",
    "\"\"\"\n",
    "import cv2\n",
    "import os\n",
    "import numpy as np\n",
    "from matplotlib import pyplot as plt\n",
    "\n",
    "os.chdir(\"C:\\\\Users\\\\Jack\\\\Documents\\\\GitHub\\\\MachineLearningCourse\\\\Batches\\\\cifar-10-batches-py\")\n",
    "\n",
    "# use all_images with knn program\n",
    "\n",
    "def unpickle(file):\n",
    "    import pickle\n",
    "    with open(file, 'rb') as fo:\n",
    "        dict = pickle.load(fo, encoding='bytes')\n",
    "    return dict\n",
    "\n",
    "images = unpickle('data_batch_1')\n",
    "print(list(images.keys()))\n",
    "image_data = images[b'data']\n",
    "red = image_data[0][:1024]\n",
    "green = image_data[0][1024:2048]\n",
    "blue = image_data[0][2048:]\n",
    "    \n",
    "# Test with single image\n",
    "image1 = np.empty((32,32,3),dtype='uint8')\n",
    "count = 0\n",
    "for i in range(32):\n",
    "    for j in range(32):\n",
    "        image1[i][j] = [int(red[count]), int(green[count]), int(blue[count])]\n",
    "        count = count + 1\n",
    "plt.imshow(image1), plt.axis('off')\n",
    "plt.show()\n",
    "\n",
    "\n",
    "# Now for all images\n",
    "all_images = np.empty((len(image_data),32,32,3),dtype='uint8')\n",
    "\n",
    "\n",
    "\n",
    "\n",
    "\n",
    "\n",
    "\n",
    "for k in range(len(image_data)):\n",
    "    red = image_data[k][:1024]\n",
    "    green = image_data[k][1024:2048]\n",
    "    blue = image_data[k][2048:]\n",
    "    count = 0\n",
    "    for i in range(32):\n",
    "        for j in range(32):\n",
    "            all_images[k][i][j] = [int(red[count]), int(green[count]), int(blue[count])]\n",
    "            count = count + 1\n",
    "\n",
    "plt.imshow(all_images[0]), plt.axis('off')\n",
    "plt.show()\n",
    "\n",
    "\n",
    "# added\n",
    "\n",
    "def getNeighbors():\n",
    "    distances = []\n",
    "    for index,n in enumerate(X_train):\n",
    "        sum = 0\n",
    "        for i in range(len(test_sample)):\n",
    "            sum += (test_sample[i] - n[i])**2\n",
    "        distances.append((index, sqrt(sum)))\n",
    "        \n",
    "    return distances"
   ]
  },
  {
   "cell_type": "code",
   "execution_count": null,
   "metadata": {},
   "outputs": [],
   "source": []
  },
  {
   "cell_type": "code",
   "execution_count": null,
   "metadata": {},
   "outputs": [],
   "source": []
  }
 ],
 "metadata": {
  "kernelspec": {
   "display_name": "Python 3",
   "language": "python",
   "name": "python3"
  },
  "language_info": {
   "codemirror_mode": {
    "name": "ipython",
    "version": 3
   },
   "file_extension": ".py",
   "mimetype": "text/x-python",
   "name": "python",
   "nbconvert_exporter": "python",
   "pygments_lexer": "ipython3",
   "version": "3.6.8"
  }
 },
 "nbformat": 4,
 "nbformat_minor": 2
}
