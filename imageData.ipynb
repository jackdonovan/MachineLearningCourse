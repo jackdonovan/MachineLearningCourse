{
 "cells": [
  {
   "cell_type": "code",
   "execution_count": 30,
   "metadata": {
    "scrolled": true
   },
   "outputs": [
    {
     "name": "stdout",
     "output_type": "stream",
     "text": [
      "(1797, 64)\n"
     ]
    },
    {
     "data": {
      "text/plain": [
       "<Figure size 432x288 with 0 Axes>"
      ]
     },
     "metadata": {},
     "output_type": "display_data"
    },
    {
     "data": {
      "image/png": "[encoded data removed]",
      "text/plain": [
       "<Figure size 288x288 with 1 Axes>"
      ]
     },
     "metadata": {
      "needs_background": "light"
     },
     "output_type": "display_data"
    },
    {
     "name": "stdout",
     "output_type": "stream",
     "text": [
      "[[ 0.  0.  5. 13.  9.  1.  0.  0.]\n",
      " [ 0.  0. 13. 15. 10. 15.  5.  0.]\n",
      " [ 0.  3. 15.  2.  0. 11.  8.  0.]\n",
      " [ 0.  4. 12.  0.  0.  8.  8.  0.]\n",
      " [ 0.  5.  8.  0.  0.  9.  8.  0.]\n",
      " [ 0.  4. 11.  0.  1. 12.  7.  0.]\n",
      " [ 0.  2. 14.  5. 10. 12.  0.  0.]\n",
      " [ 0.  0.  6. 13. 10.  0.  0.  0.]]\n",
      "[ 0.  0.  5. 13.  9.  1.  0.  0.  0.  0. 13. 15. 10. 15.  5.  0.  0.  3.\n",
      " 15.  2.  0. 11.  8.  0.  0.  4. 12.  0.  0.  8.  8.  0.  0.  5.  8.  0.\n",
      "  0.  9.  8.  0.  0.  4. 11.  0.  1. 12.  7.  0.  0.  2. 14.  5. 10. 12.\n",
      "  0.  0.  0.  0.  6. 13. 10.  0.  0.  0.]\n",
      "[0 1 2 ... 8 9 8]\n",
      "Accurate Prediction:  6\n"
     ]
    },
    {
     "data": {
      "image/png": "[encoded data removed]",
      "text/plain": [
       "<Figure size 432x288 with 1 Axes>"
      ]
     },
     "metadata": {
      "needs_background": "light"
     },
     "output_type": "display_data"
    }
   ],
   "source": [
    "from math import sqrt\n",
    "from sklearn.datasets import load_digits\n",
    "mnist = load_digits()\n",
    "print(mnist.data.shape)\n",
    "\n",
    "import matplotlib.pyplot as plt\n",
    "plt.gray()\n",
    "plt.matshow(mnist.images[0])\n",
    "plt.show()\n",
    "print(mnist.images[0])\n",
    "\n",
    "print(mnist.data[0])\n",
    "print(mnist.target)\n",
    "\n",
    "# 1. break data into training and testing\n",
    "from sklearn.model_selection import train_test_split\n",
    "X_train, X_test, y_train, y_test, i_train, i_test = train_test_split(mnist.data, mnist.target, mnist.images, test_size=0.2, random_state=42)\n",
    "plt.hist(mnist.target)\n",
    "plt.hist(y_train)\n",
    "plt.hist(y_test)\n",
    "X_train.shape\n",
    "y_train.shape\n",
    "\n",
    "# 2. write a def to compute euclidean distance for every object in  the training dataset\n",
    "# Return that list\n",
    "def getNeighbors(test_sample, X_train):\n",
    "    \"\"\"\"\n",
    "    Returns the euclidean distance between the test sample and the ..\n",
    "     \n",
    "    Parameters\n",
    "    ----------\n",
    "    test_sample : Numeric list\n",
    "        A numeric list of 64 integers between 0 and 16\n",
    "    X_train : Data Frame\n",
    "        a data frame of unknown number of digits represented by 64 integers\n",
    "        \n",
    "    Returns\n",
    "    -------\n",
    "    distances : list\n",
    "        A list of all the euclidean distances between the test sample and the x_training set\n",
    "    \"\"\"\n",
    "\n",
    "    distances = []\n",
    "    for index,n in enumerate(X_train):\n",
    "        sum = 0\n",
    "        for i in range(len(test_sample)):\n",
    "            sum += (test_sample[i] - n[i])**2\n",
    "        distances.append((index, sqrt(sum)))\n",
    "        \n",
    "    return distances\n",
    "#      Assignment:   instead of just one, do all of the testing set give an accuracy out of 360\n",
    "distances = getNeighbors(X_test[0], X_train)\n",
    "\n",
    "# 3. Determine what the k nearest neighbors are\n",
    "k = int(sqrt(len(X_train)))\n",
    "\n",
    "d_sorted = sorted(distances, key=lambda kv: kv[1])\n",
    "\n",
    "# creates list of indexs (splits basically)\n",
    "indexes = [i[0] for i in d_sorted[0:k]]\n",
    "\n",
    "# 4. Take the mode of the k nearest neighbors to classify our testing sample\n",
    "from statistics import mode\n",
    "majority = mode(y_train[indexes])\n",
    "\n",
    "# 5. check for accuracy with training set\n",
    "if majority == y_test[0]:\n",
    "    print(\"Accurate Prediction: \", majority)\n",
    "else:\n",
    "    print(\"Inaccurate Prediction: \", y_test[0], \" Classified as \", majority)\n",
    "    \n",
    "\n",
    "# 6. do cross validation with the testing set\n",
    "# to do when working with full set\n",
    "\n",
    "# Extra credit to figure out what to do when you have a tie for more : answers (?) flip a coin, choose one that is closest out of the ties, "
   ]
  },
  {
   "cell_type": "code",
   "execution_count": null,
   "metadata": {},
   "outputs": [],
   "source": []
  },
  {
   "cell_type": "code",
   "execution_count": null,
   "metadata": {},
   "outputs": [],
   "source": []
  },
  {
   "cell_type": "code",
   "execution_count": null,
   "metadata": {},
   "outputs": [],
   "source": []
  },
  {
   "cell_type": "code",
   "execution_count": null,
   "metadata": {},
   "outputs": [],
   "source": []
  }
 ],
 "metadata": {
  "kernelspec": {
   "display_name": "Python 3",
   "language": "python",
   "name": "python3"
  },
  "language_info": {
   "codemirror_mode": {
    "name": "ipython",
    "version": 3
   },
   "file_extension": ".py",
   "mimetype": "text/x-python",
   "name": "python",
   "nbconvert_exporter": "python",
   "pygments_lexer": "ipython3",
   "version": "3.6.8"
  }
 },
 "nbformat": 4,
 "nbformat_minor": 2
}
